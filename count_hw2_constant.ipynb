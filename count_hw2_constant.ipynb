{
 "cells": [
  {
   "cell_type": "code",
   "execution_count": 1,
   "metadata": {},
   "outputs": [],
   "source": [
    "from random import randint"
   ]
  },
  {
   "cell_type": "code",
   "execution_count": 10,
   "metadata": {},
   "outputs": [],
   "source": [
    "constant = []\n",
    "for i in range(100):\n",
    "    constant.append((randint(1, 100) , randint(1, 100)))"
   ]
  },
  {
   "cell_type": "code",
   "execution_count": 11,
   "metadata": {},
   "outputs": [
    {
     "data": {
      "text/plain": [
       "100"
      ]
     },
     "execution_count": 11,
     "metadata": {},
     "output_type": "execute_result"
    }
   ],
   "source": [
    "len(set(constant))"
   ]
  },
  {
   "cell_type": "code",
   "execution_count": 61,
   "metadata": {},
   "outputs": [],
   "source": [
    "aa = []\n",
    "bb =[]\n",
    "for a,b in constant:\n",
    "    aa.append(a)\n",
    "    bb.append(b)"
   ]
  },
  {
   "cell_type": "code",
   "execution_count": 64,
   "metadata": {},
   "outputs": [
    {
     "name": "stdout",
     "output_type": "stream",
     "text": [
      "[86, 85, 37, 78, 73, 38, 3, 90, 86, 99, 2, 24, 100, 3, 24, 13, 22, 72, 17, 58, 15, 70, 47, 50, 84, 86, 71, 63, 72, 45, 70, 1, 90, 30, 59, 45, 27, 11, 86, 55, 73, 4, 75, 99, 8, 79, 85, 34, 52, 94, 22, 11, 13, 14, 42, 39, 22, 57, 74, 50, 87, 8, 14, 4, 77, 68, 57, 53, 43, 23, 8, 24, 24, 65, 72, 55, 8, 17, 51, 55, 59, 26, 64, 91, 84, 22, 3, 45, 10, 73, 84, 81, 24, 83, 89, 39, 25, 67, 21, 96]\n"
     ]
    }
   ],
   "source": [
    "print(bb)"
   ]
  },
  {
   "cell_type": "code",
   "execution_count": 13,
   "metadata": {},
   "outputs": [],
   "source": [
    "import glob"
   ]
  },
  {
   "cell_type": "code",
   "execution_count": 19,
   "metadata": {},
   "outputs": [],
   "source": [
    "files = [filename for filename in glob.glob('athletics/*')]"
   ]
  },
  {
   "cell_type": "code",
   "execution_count": 28,
   "metadata": {},
   "outputs": [],
   "source": [
    "contents = []\n",
    "for file in files:\n",
    "    contents.append( [f[:-1] for f in open(file).readlines() if f!='\\n'])\n",
    "#     print(file,contents)\n",
    "#     break"
   ]
  },
  {
   "cell_type": "code",
   "execution_count": 29,
   "metadata": {},
   "outputs": [
    {
     "data": {
      "text/plain": [
       "['Greek pair set for hearing',\n",
       " 'Kostas Kenteris and Katerina Thanou will fight the provisional two-year bans imposed on them by the IAAF at an independent tribunal this weekend.',\n",
       " 'Athletics\\' ruling body took action against the pair for failing to take drugs tests before the Athens Olympics. An independent tribunal of the Greek Track and Field Federation will meet to decide whether to ratify the sanction. The sprint duo face charges of failing to give information on their location and refusing to submit to a drugs test. Kenteris\\' lawyer Gregory Ioannidis told BBC Sport: \"We refute both charges as unsubstantiated and illogical. \"There have been certain breaches in the correct application of the rules on behalf of the sporting authorities and their officials, and these procedural breaches have also violated my client\\'s rights. \"There is also evidence that proves the fact that my client has been persecuted.\" Ioannidis, who is a law lecturer at the University of Buckingham, added: \"One of the important rights and foundations of law and justice - that the accused should be presumed innocent unless proved otherwise - has been tarnished.\" The panel will also decide on the two-year ban imposed on the athletes\\' controversial coach Christos Tzekos by the IAAF. Kenteris, the 2000 Olympic 200m champion, and Thanou, the women\\'s 100m silver medallist from the same Games in Sydney, quit the Olympics on 18 August after failing to give samples on the eve of the opening ceremony.',\n",
       " 'Testers could not find them at the Olympic village and the duo were later admitted to hospital after claiming to have been involved in a motorcycle accident. They also missed tests in Tel Aviv, Chicago and Athens before the Games. In imposing two-year suspensions on the duo on 22 December, the IAAF described their explanations for missing the tests as \"unacceptable\". Whatever the findings of the independent tribunal, all parties will have the right to appeal to the Court of Arbitration for Sport. The tribunal hearing will take place at the Hellenic Olympic Committee building. It will start at 1200 GMT on Saturday and is expected to finish early next week. The tribunal panel will consist of five members - president Konstantinos Panagopoulos and Panagiotis Dimakos, Haralabos Hrisanthakis, Stilianos Perakis and Ioannis Karmis. Kenteris and Thanou also face criminal charges in Greece for allegedly faking the motorcycle accident. Eight criminal charges have been laid against the sprinters as well as Tzekos, an eyewitness to the accident and hospital officials. But there has been speculation that the charges could be dropped.']"
      ]
     },
     "execution_count": 29,
     "metadata": {},
     "output_type": "execute_result"
    }
   ],
   "source": [
    "contents[0]"
   ]
  },
  {
   "cell_type": "code",
   "execution_count": 30,
   "metadata": {},
   "outputs": [],
   "source": [
    "from nltk import ngrams\n",
    "n = 3"
   ]
  },
  {
   "cell_type": "code",
   "execution_count": 31,
   "metadata": {},
   "outputs": [],
   "source": [
    "shiglings = set()\n",
    "for content in contents:\n",
    "    shiglings.update(list(ngrams(' '.join(content).split() ,n)))"
   ]
  },
  {
   "cell_type": "code",
   "execution_count": 32,
   "metadata": {},
   "outputs": [
    {
     "data": {
      "text/plain": [
       "13031"
      ]
     },
     "execution_count": 32,
     "metadata": {},
     "output_type": "execute_result"
    }
   ],
   "source": [
    "len(shiglings)"
   ]
  },
  {
   "cell_type": "code",
   "execution_count": 33,
   "metadata": {},
   "outputs": [],
   "source": [
    "from collections import defaultdict"
   ]
  },
  {
   "cell_type": "code",
   "execution_count": 37,
   "metadata": {},
   "outputs": [],
   "source": [
    "shingDict = defaultdict(set)\n",
    "for id , content in enumerate(contents):\n",
    "    for gram in list(ngrams(' '.join(content).split() ,n)):\n",
    "        shingDict[gram].add(id)"
   ]
  },
  {
   "cell_type": "code",
   "execution_count": 38,
   "metadata": {},
   "outputs": [],
   "source": [
    "shiglings = set()\n",
    "for content in contents:\n",
    "    shiglings.update(list(ngrams(' '.join(content).replace('[^a-zA-Z]+','').split() ,n)))"
   ]
  },
  {
   "cell_type": "code",
   "execution_count": 43,
   "metadata": {},
   "outputs": [],
   "source": [
    "programs_shiglings_list = []\n",
    "for content in contents:\n",
    "    programs_shiglings = set()\n",
    "    programs_shiglings.update(list(ngrams(' '.join(content).split() ,n)))\n",
    "    programs_shiglings_list.append(programs_shiglings)"
   ]
  },
  {
   "cell_type": "markdown",
   "metadata": {},
   "source": [
    "N = 13031\n",
    "p = 13033\n",
    "int[][] segments = new int[][] {{66, 19, 69, 3, 9, 55, 36, 19, 41, 33, 75, 96, 53, 38, 10, 44, 84, 27, 91,\\\n",
    "                                 95, 4, 49, 7, 54, 13, 29, 46, 38, 97, 72, 92, 23, 25, 10, 97, 81, 82, 25, 6, 85, \\\n",
    "                                 5, 28, 16, 67, 76, 92, 11, 40, 86, 62, 27, 48, 20, 42, 96, 68, 32, 63, 31, 28, \\\n",
    "                                 13, 42, 23, 4, 48, 55, 41, 64, 45, 70, 88, 41, 89, 5, 55, 41, 66, 57, 79, 70, 65, \\\n",
    "                                 77, 27, 94, 61, 41, 50, 82, 58, 35, 94, 48, 82, 1, 26, 91, 47, 29, 1, 95} ,\n",
    "                               {86, 85, 37, 78, 73, 38, 3, 90, 86, 99, 2, 24, 100, 3, 24, 13, 22, 72, 17, 58, 15, \\\n",
    "                                70, 47, 50, 84, 86, 71, 63, 72, 45, 70, 1, 90, 30, 59, 45, 27, 11, 86, 55, 73, 4, \\\n",
    "                                75, 99, 8, 79, 85, 34, 52, 94, 22, 11, 13, 14, 42, 39, 22, 57, 74, 50, 87, 8, 14, \\\n",
    "                                4, 77, 68, 57, 53, 43, 23, 8, 24, 24, 65, 72, 55, 8, 17, 51, 55, 59, 26, 64, 91, \\\n",
    "                                84, 22, 3, 45, 10, 73, 84, 81, 24, 83, 89, 39, 25, 67, 21, 96}}; "
   ]
  },
  {
   "cell_type": "code",
   "execution_count": 45,
   "metadata": {},
   "outputs": [],
   "source": [
    "trishinglings = []\n",
    "for ps in programs_shiglings_list:\n",
    "    tmp =[]\n",
    "    for shigling in shiglings:\n",
    "        if shigling in ps :\n",
    "            tmp.append(1)\n",
    "        else:\n",
    "            tmp.append(0)\n",
    "    trishinglings.append(tmp)"
   ]
  },
  {
   "cell_type": "code",
   "execution_count": 52,
   "metadata": {},
   "outputs": [],
   "source": [
    "N = 13031 \n",
    "p = 13033"
   ]
  },
  {
   "cell_type": "code",
   "execution_count": 57,
   "metadata": {},
   "outputs": [],
   "source": [
    "constant= [[66, 19, 69, 3, 9, 55, 36, 19, 41, 33, 75, 96, 53, 38, 10, 44, 84, 27, 91,\n",
    "95, 4, 49, 7, 54, 13, 29, 46, 38, 97, 72, 92, 23, 25, 10, 97, 81, 82, 25, 6, 85, \n",
    "5, 28, 16, 67, 76, 92, 11, 40, 86, 62, 27, 48, 20, 42, 96, 68, 32, 63, 31, 28,\n",
    "13, 42, 23, 4, 48, 55, 41, 64, 45, 70, 88, 41, 89, 5, 55, 41, 66, 57, 79, 70, 65,\n",
    "77, 27, 94, 61, 41, 50, 82, 58, 35, 94, 48, 82, 1, 26, 91, 47, 29, 1, 95] ,\n",
    "[86, 85, 37, 78, 73, 38, 3, 90, 86, 99, 2, 24, 100, 3, 24, 13, 22, 72, 17, 58, 15, \n",
    "70, 47, 50, 84, 86, 71, 63, 72, 45, 70, 1, 90, 30, 59, 45, 27, 11, 86, 55, 73, 4,\n",
    "75, 99, 8, 79, 85, 34, 52, 94, 22, 11, 13, 14, 42, 39, 22, 57, 74, 50, 87, 8, 14, \n",
    "4, 77, 68, 57, 53, 43, 23, 8, 24, 24, 65, 72, 55, 8, 17, 51, 55, 59, 26, 64, 91, \n",
    "84, 22, 3, 45, 10, 73, 84, 81, 24, 83, 89, 39, 25, 67, 21, 96]]"
   ]
  },
  {
   "cell_type": "code",
   "execution_count": null,
   "metadata": {},
   "outputs": [],
   "source": [
    "for func in range(100):\n",
    "    h = []\n",
    "    for i in range(100):\n",
    "        h.append((constant[0][i]*(func+1)+constant[1][i]%p)%N)\n",
    "    for hashing_id in h:\n",
    "        for"
   ]
  }
 ],
 "metadata": {
  "kernelspec": {
   "display_name": "Python 3",
   "language": "python",
   "name": "python3"
  },
  "language_info": {
   "codemirror_mode": {
    "name": "ipython",
    "version": 3
   },
   "file_extension": ".py",
   "mimetype": "text/x-python",
   "name": "python",
   "nbconvert_exporter": "python",
   "pygments_lexer": "ipython3",
   "version": "3.6.5"
  }
 },
 "nbformat": 4,
 "nbformat_minor": 2
}
